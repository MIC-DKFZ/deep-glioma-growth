{
 "cells": [
  {
   "cell_type": "markdown",
   "id": "southern-serbia",
   "metadata": {},
   "source": [
    "# Evaluation"
   ]
  },
  {
   "cell_type": "code",
   "execution_count": 2,
   "id": "overhead-colonial",
   "metadata": {},
   "outputs": [],
   "source": [
    "import os\n",
    "import re\n",
    "import glob\n",
    "import numpy as np\n",
    "import pandas as pd\n",
    "import json\n",
    "import matplotlib.pyplot as plt\n",
    "from matplotlib import cm, rc\n",
    "import torch\n",
    "\n",
    "from gliomagrowth.experiment.continuous_image import ContinuousTumorGrowth\n",
    "from gliomagrowth.data import glioma\n",
    "glioma.data_dir = \"/media/jens/SSD/bovarec/multi_128/\"\n",
    "\n",
    "os.environ[\"CUDA_VISIBLE_DEVICES\"] = \"1\"\n",
    "\n",
    "# rc('font',**{'family':'serif','serif':['Computer Modern Roman']})\n",
    "# rc('text', usetex=True)"
   ]
  },
  {
   "cell_type": "code",
   "execution_count": 5,
   "id": "mighty-atlas",
   "metadata": {},
   "outputs": [],
   "source": [
    "os.chdir(\"/media/jens/Data4TB/experiments/mlflow/mlruns/\")"
   ]
  },
  {
   "cell_type": "markdown",
   "id": "composed-singles",
   "metadata": {},
   "source": [
    "### Utilities"
   ]
  },
  {
   "cell_type": "code",
   "execution_count": 8,
   "id": "comparable-hopkins",
   "metadata": {},
   "outputs": [],
   "source": [
    "def load_data_module(path):\n",
    "    dm = glioma.GliomaModule.load_from_checkpoint(path, data_dir=glioma.data_dir)\n",
    "    dm.setup()\n",
    "    return dm\n",
    "\n",
    "def load_experiment(path, device=\"cuda\"):\n",
    "    exp = ContinuousTumorGrowth.load_from_checkpoint(path)\n",
    "    exp.model.eval()\n",
    "    exp.to(device=device)\n",
    "    return exp\n",
    "\n",
    "def get_experiment_from_name(dir_, name):\n",
    "    \n",
    "    for exp in os.listdir(dir_):\n",
    "        try:\n",
    "            with open(os.path.join(dir_, exp, \"tags\", \"mlflow.runName\"), \"r\") as infile:\n",
    "                if name == infile.readline():\n",
    "                    break\n",
    "        except (FileNotFoundError, NotADirectoryError):\n",
    "            continue\n",
    "    else:\n",
    "        raise FileNotFoundError(\"Could not find model with name {}.\".format(name))\n",
    "        \n",
    "    return exp\n",
    "\n",
    "def load_experiment_from_name(dir_, name, device=\"cuda\"):\n",
    "    \n",
    "    exp = get_experiment_from_name(dir_, name)\n",
    "        \n",
    "    checkpoints = glob.glob(os.path.join(dir_, exp, \"artifacts\", \"checkpoint*\"))\n",
    "    if len(checkpoints) == 0:\n",
    "        raise FileNotFoundError(\"Couldn't find any checkpoints in {}.\".format(os.path.join(dir_, exp, \"artifacts\")))\n",
    "    \n",
    "    epochs = []\n",
    "    for cp in checkpoints:\n",
    "        cp = os.path.basename(cp)\n",
    "        e = int(cp.split(\"_\")[1][6:])\n",
    "        epochs.append(e)\n",
    "    max_epoch = np.argmax(epochs)\n",
    "    \n",
    "    checkpoint = checkpoints[max_epoch]\n",
    "    print(\"Loading checkpoint from {}.\".format(checkpoint))\n",
    "    return load_experiment(checkpoint, device)"
   ]
  },
  {
   "cell_type": "markdown",
   "id": "included-possibility",
   "metadata": {},
   "source": [
    "### Look at scores"
   ]
  },
  {
   "cell_type": "code",
   "execution_count": 9,
   "id": "neutral-tracy",
   "metadata": {},
   "outputs": [],
   "source": [
    "def load_test(exp):\n",
    "    df = pd.read_csv(os.path.join(exp, \"artifacts\", \"test.csv\"))\n",
    "    df = df.set_index(\"Subject and Timestep\")\n",
    "    for name in df.columns:\n",
    "        if name.startswith(\"Unnamed\"):\n",
    "            df = df.drop(name, axis=1)\n",
    "    return df"
   ]
  },
  {
   "cell_type": "code",
   "execution_count": 234,
   "id": "egyptian-visibility",
   "metadata": {},
   "outputs": [],
   "source": [
    "exp = get_experiment_from_name(\"10\", \"att2_temp0_128-64_split0_lw0.00001_convup\")\n",
    "scores = load_test(\"10/\" + exp).sort_index()"
   ]
  },
  {
   "cell_type": "markdown",
   "id": "shared-amazon",
   "metadata": {},
   "source": [
    "Add column for true Dice if necessary"
   ]
  },
  {
   "cell_type": "code",
   "execution_count": 235,
   "id": "political-tennessee",
   "metadata": {},
   "outputs": [],
   "source": [
    "if \"True Dice\" not in scores.columns:\n",
    "    storage = \"dice_2d.csv\"\n",
    "    if os.path.exists(storage):\n",
    "        dice_list = pd.read_csv(storage)\n",
    "        dice_list.columns = [\"Subject and Timestep\", \"True Dice\"]\n",
    "        dice_list = dice_list.set_index(\"Subject and Timestep\")\n",
    "    else:\n",
    "        data = glioma.load(\"r\")\n",
    "        gen = glioma.FutureContextGenerator2D(data, 1, (2, 3, 4, 5), ddir=glioma.data_dir)\n",
    "        info = []\n",
    "        dice_list = []\n",
    "        for (context, target) in gen:\n",
    "            subject_info = \"_\".join(\n",
    "                [\n",
    "                    context[\"subjects\"][0],\n",
    "                    str(context[\"timesteps\"][0] + context[\"data\"].shape[1]),\n",
    "                    str(context[\"slices\"][0]),\n",
    "                    \"it\" + str(context[\"data\"].shape[1]),\n",
    "                ]\n",
    "            )\n",
    "            seg_in = context[\"seg\"][0, -1, 0] > 0\n",
    "            seg_out = target[\"seg\"][0, 0, 0] > 0\n",
    "            gt_volume = np.sum(seg_out)\n",
    "            if gt_volume == 0:\n",
    "                continue\n",
    "            else:\n",
    "                info.append(subject_info)\n",
    "                dice_list.append(dice(seg_in, seg_out))\n",
    "        dice_list = pd.DataFrame(dice_list, columns=[\"True Dice\"], index=info)\n",
    "        dice_list.to_csv(storage)\n",
    "    scores.insert(0, \"True Dice\", dice_list.loc[scores.index])"
   ]
  },
  {
   "cell_type": "markdown",
   "id": "computational-politics",
   "metadata": {},
   "source": [
    "Remove cases where there is no true overlap"
   ]
  },
  {
   "cell_type": "code",
   "execution_count": 236,
   "id": "sustained-azerbaijan",
   "metadata": {},
   "outputs": [],
   "source": [
    "scores = scores[scores[\"True Dice\"] > 0]"
   ]
  },
  {
   "cell_type": "markdown",
   "id": "explicit-hampton",
   "metadata": {},
   "source": [
    "Print scores at different true overlap thresholds (1 = all)"
   ]
  },
  {
   "cell_type": "code",
   "execution_count": 237,
   "id": "computational-campus",
   "metadata": {},
   "outputs": [
    {
     "name": "stdout",
     "output_type": "stream",
     "text": [
      "True Dice                        0.670820\n",
      "GT Volume                      410.448786\n",
      "Loss Task                        0.356302\n",
      "Loss Latent                    589.061122\n",
      "Loss                             0.362192\n",
      "Dice Class 0                     0.966361\n",
      "Dice Class 1                     0.583129\n",
      "Dice Class 2                     0.273732\n",
      "Dice Foreground                  0.620503\n",
      "Best Volume Dice Class 0         0.967554\n",
      "Best Volume Dice Class 1         0.600307\n",
      "Best Volume Dice Class 2         0.277348\n",
      "Best Volume Dice Foreground      0.639785\n",
      "Best Dice Class 0                0.968904\n",
      "Best Dice Class 1                0.621220\n",
      "Best Dice Class 2                0.182551\n",
      "Best Dice Foreground             0.658738\n",
      "dtype: float64\n"
     ]
    }
   ],
   "source": [
    "true_overlap_low10 = np.percentile(scores[\"True Dice\"], 10)\n",
    "true_overlap_mean = scores[\"True Dice\"].mean()\n",
    "\n",
    "thresh = 1.\n",
    "\n",
    "print(scores[scores[\"True Dice\"] < thresh].mean())\n",
    "# print(scores[scores[\"True Dice\"] < thresh].std() / np.sqrt(scores[scores[\"True Dice\"] < thresh].shape[0]))"
   ]
  },
  {
   "cell_type": "code",
   "execution_count": null,
   "id": "opposite-exhaust",
   "metadata": {},
   "outputs": [],
   "source": []
  }
 ],
 "metadata": {
  "kernelspec": {
   "display_name": "Python 3",
   "language": "python",
   "name": "python3"
  },
  "language_info": {
   "codemirror_mode": {
    "name": "ipython",
    "version": 3
   },
   "file_extension": ".py",
   "mimetype": "text/x-python",
   "name": "python",
   "nbconvert_exporter": "python",
   "pygments_lexer": "ipython3",
   "version": "3.8.5"
  }
 },
 "nbformat": 4,
 "nbformat_minor": 5
}
